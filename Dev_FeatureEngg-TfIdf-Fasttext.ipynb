{
 "cells": [
  {
   "cell_type": "code",
   "execution_count": 2,
   "metadata": {
    "collapsed": false
   },
   "outputs": [],
   "source": [
    "## import data processing/cleaning , data modeling libraries\n",
    "## tune embed size (not possible), min word length to consider in preprocess(>1 - 1%improvement), word2vec averaging logic (not much difference)\n",
    "import pandas as pd\n",
    "import os\n",
    "import sys\n",
    "import re as re\n",
    "import datetime as datetime\n",
    "import numpy as np\n",
    "import collections\n",
    "import string\n",
    "import pandas as pd\n",
    "\n",
    "from nltk.tag.perceptron import PerceptronTagger\n",
    "import nltk\n",
    "from nltk.stem import WordNetLemmatizer,PorterStemmer\n",
    "from nltk.corpus import stopwords\n",
    "\n",
    "from gensim.models import Doc2Vec\n",
    "from gensim.models import Word2Vec\n",
    "from gensim.models import fasttext\n",
    "\n",
    "from sklearn.feature_extraction.text import TfidfVectorizer\n",
    "from sklearn.model_selection import train_test_split\n",
    "#,StratifiedKFold\n",
    "from sklearn.pipeline import Pipeline\n",
    "from sklearn.naive_bayes import MultinomialNB\n",
    "from sklearn.svm import LinearSVC\n",
    "from sklearn.linear_model import SGDClassifier\n",
    "from gensim.models.wrappers import FastText\n",
    "from sklearn.model_selection import GridSearchCV\n",
    "#from sklearn.ensemble import RandomForestClassifier,AdaBoostClassifier\n",
    "#from sklearn.tree import DecisionTreeRegressor\n",
    "#from xgboost.sklearn import XGBClassifier\n",
    "from sklearn.metrics import classification_report\n",
    "\n",
    "import warnings\n",
    "warnings.filterwarnings('ignore')\n",
    "t0 = datetime.datetime.now()"
   ]
  },
  {
   "cell_type": "code",
   "execution_count": 12,
   "metadata": {
    "collapsed": false
   },
   "outputs": [
    {
     "name": "stdout",
     "output_type": "stream",
     "text": [
      "FastText(vocab=2519370, size=300, alpha=0.025)\n"
     ]
    }
   ],
   "source": [
    "## FASTEXT\n",
    "model = FastText.load_fasttext_format('wiki.en.bin')\n",
    "print(model)"
   ]
  },
  {
   "cell_type": "code",
   "execution_count": 3,
   "metadata": {
    "collapsed": false
   },
   "outputs": [
    {
     "name": "stdout",
     "output_type": "stream",
     "text": [
      "/home/ubuntu/Notebook/ml-capstone\n"
     ]
    }
   ],
   "source": [
    "print(os.getcwd())\n",
    "#print(model.most_similar('teacher'))\n",
    "#print(model.similarity('', ''))"
   ]
  },
  {
   "cell_type": "code",
   "execution_count": 4,
   "metadata": {
    "collapsed": false
   },
   "outputs": [],
   "source": [
    "outData43 = pd.DataFrame()\n",
    "limit = 20000\n",
    "\n",
    "outData43_text = pd.read_csv(\"reviews.txt\",encoding=\"utf-8\",header=None,names=[\"text\"])\n",
    "outData43_lab = pd.read_csv(\"labels.txt\",encoding=\"utf-8\",header=None,names=[\"label\"])\n",
    "#outData43_text = outData43_text[:limit]\n",
    "#outData43_lab = outData43_lab[:limit]\n",
    "#outData43[\"length\"]=outData43_text.text.apply(lambda x:len(x))\n",
    "# outData43[\"label\"]=outData43_lab.label\n",
    "#print(outData43.length)\n",
    "# print(outData43.head(n=2))\n",
    "\n",
    "x_train,x_test,y_train,y_test = train_test_split(outData43_text,outData43_lab,test_size=0.2)"
   ]
  },
  {
   "cell_type": "code",
   "execution_count": 5,
   "metadata": {
    "collapsed": false
   },
   "outputs": [
    {
     "data": {
      "text/plain": [
       "['chak',\n",
       " 'khan',\n",
       " 'full',\n",
       " 'sukhvinder',\n",
       " 'shah',\n",
       " 'salim',\n",
       " 'india',\n",
       " 'title',\n",
       " 'marianne',\n",
       " 'rukh',\n",
       " 'singh',\n",
       " 'cruz',\n",
       " 'de',\n",
       " 'song']"
      ]
     },
     "execution_count": 5,
     "metadata": {},
     "output_type": "execute_result"
    }
   ],
   "source": [
    "## NLP PRE-PROCESSING\n",
    "\n",
    "#text=\" the JanaSena Party Formation Day celebrations || LIVE funny celebration|| Pawan Kalyan || Guntur\"\n",
    "text=\"Chak De India | Full Title Song | Shah Rukh Khan | Sukhvinder Singh | Salim | Marianne D'Cruz\"\n",
    "\n",
    "def nltk_clean_sent(line):\n",
    "    if len(line)>0:\n",
    "        ## remove the punctuation/emoticons/digits/multispaces with single from the line\n",
    "        ## dont make lowercase before the pos tagging\n",
    "        line_lower = line.strip()\n",
    "        line_punct = re.sub('['+string.punctuation+']',' ',line_lower)\n",
    "        line_emots = re.sub(r'[\\u200b-\\u2fff]+',' ',line_punct)\n",
    "        line_digis = re.sub(r'[0-9]+',' ',line_emots)\n",
    "        line_spaces = re.sub(r'[\\s]+',' ',line_digis)\n",
    "        line = line_spaces\n",
    "    return line.lower()\n",
    "\n",
    "def nltk_extract_postags(tokens):\n",
    "    cleaned_str = ''\n",
    "    #tokens = nltk.word_tokenize(line)\n",
    "    tokens_pos = PerceptronTagger().tag(tokens)\n",
    "    #print(tokens_pos)\n",
    "    # noun tags\n",
    "    nn_tags = ['NN', 'NNP', 'NNP', 'NNPS', 'NNS']\n",
    "    # adjectives\n",
    "    jj_tags = ['JJ', 'JJR', 'JJS']\n",
    "    # verbs\n",
    "    vb_tags = ['VB', 'VBD', 'VBG', 'VBN', 'VBP', 'VBZ']\n",
    "    nltk_tags = nn_tags + jj_tags + vb_tags\n",
    "    \n",
    "    for tag_word in tokens_pos:\n",
    "#         if tag_word[1] in nltk_tags:\n",
    "            if len(tag_word[0])>2:\n",
    "                cleaned_str += tag_word[0].lower()+tag_word[1]+' '\n",
    "    return cleaned_str.strip().split()\n",
    "\n",
    "def nltk_apply_lemma(line):\n",
    "    ## lemma is fine rather than stemming\n",
    "    tokens_lemmas = [WordNetLemmatizer().lemmatize(word) for word in line.split()]\n",
    "    #tokens_lemmas = [PorterStemmer().stem(word) for word in line.split()]\n",
    "    ## stemming\n",
    "    tokens_stops = [word for word in tokens_lemmas if word not in stopwords.words('english')]\n",
    "    tokens_stops = [word for word in tokens_stops if len(word.strip())>1]\n",
    "    tokens_stops = list(set(tokens_stops))\n",
    "    return tokens_stops\n",
    "\n",
    "def nltk_extract_tags(line):\n",
    "        ## tokenize the sentence/get tokens that contains only letters\n",
    "        line_clean = nltk_clean_sent(line)\n",
    "        ## apply lemmatize/stemming and remove stopwords\n",
    "        token_lemma = nltk_apply_lemma(line_clean)\n",
    "#         apply postags to the words and get only couple of tags and word length >2\n",
    "#         tokens_pos = nltk_extract_postags(token_lemma)\n",
    "        \n",
    "        return token_lemma\n",
    "    \n",
    "nltk_extract_tags(text)"
   ]
  },
  {
   "cell_type": "code",
   "execution_count": 6,
   "metadata": {
    "collapsed": false
   },
   "outputs": [
    {
     "name": "stdout",
     "output_type": "stream",
     "text": [
      "                                                    text  \\\n",
      "21743  as i said  the book was pretty good and this m...   \n",
      "7315   well i  ll start with the good points . the mo...   \n",
      "\n",
      "                                       clean_title_words  \\\n",
      "21743  [gilbert, might, pretty, lead, please, advanta...   \n",
      "7315   [number, disturbing, saved, buck, shot, displa...   \n",
      "\n",
      "                                        clean_title_text  \n",
      "21743  gilbert might pretty lead please advantage kee...  \n",
      "7315   number disturbing saved buck shot displayed li...  \n"
     ]
    }
   ],
   "source": [
    "# Compute clean title\n",
    "x_train['clean_title_words'] = x_train.text.apply(nltk_extract_tags)\n",
    "x_test['clean_title_words'] = x_test.text.apply(nltk_extract_tags)\n",
    "#print(df_en.head(n=2))\n",
    "x_train['clean_title_text'] = x_train.clean_title_words.apply(lambda x:' '.join(x))\n",
    "x_test['clean_title_text'] = x_test.clean_title_words.apply(lambda x:' '.join(x))\n",
    "print(x_train.head(n=2))"
   ]
  },
  {
   "cell_type": "code",
   "execution_count": 7,
   "metadata": {
    "collapsed": false
   },
   "outputs": [
    {
     "name": "stdout",
     "output_type": "stream",
     "text": [
      "(20000, 35566)\n",
      "['aa', 'aaa', 'aag', 'aage', 'aaker', 'aames', 'aamir', 'aankhen', 'aapke', 'aardman', 'aargh', 'aaron', 'aarp', 'aatish', 'ab', 'aback', 'abadi', 'abandon', 'abandoned', 'abandoning', 'abandonment', 'abashed', 'abbas', 'abbey', 'abbie', 'abbot', 'abbott', 'abbreviated', 'abby', 'abc', 'abduct', 'abducted', 'abducting', 'abduction', 'abductor', 'abducts', 'abdul', 'abe', 'abel', 'abercrombie', 'aberration', 'abetted', 'abhay', 'abhishek', 'abhorrence', 'abhorrent', 'abhors', 'abide', 'abiding', 'abigail']\n",
      "(5000, 18743)\n",
      "['aa', 'aaargh', 'aag', 'aames', 'aaron', 'ab', 'abandon', 'abandoned', 'abandoning', 'abandonment', 'abbas', 'abbey', 'abbot', 'abbott', 'abc', 'abducted', 'abduction', 'abe', 'abel', 'abetted', 'abhishek', 'abhorrent', 'abiding', 'ability', 'able', 'ably', 'abnormal', 'abnormally', 'abo', 'aboard', 'abode', 'abolished', 'abolitionist', 'abominable', 'abomination', 'aboriginal', 'aborigine', 'abort', 'abortion', 'abound', 'abraham', 'abrasive', 'abridged', 'abroad', 'abrupt', 'abruptly', 'absconded', 'absence', 'absent', 'absolute']\n"
     ]
    }
   ],
   "source": [
    "tfidf_transform = TfidfVectorizer(min_df=2,stop_words='english',use_idf=True,ngram_range=(1,1))\n",
    "tfidf_vecto = tfidf_transform.fit_transform(x_train['clean_title_text'])\n",
    "terms = tfidf_transform.get_feature_names()\n",
    "tf_idf_dict = dict(zip(tfidf_transform.get_feature_names(),tfidf_transform.idf_))\n",
    "\n",
    "print(tfidf_vecto.shape)\n",
    "print((terms[:50]))\n",
    "\n",
    "tfidf_transform1 = TfidfVectorizer(min_df=2,stop_words='english',use_idf=True,ngram_range=(1,1))\n",
    "tfidf_vecto1 = tfidf_transform1.fit_transform(x_test['clean_title_text'])\n",
    "terms1 = tfidf_transform1.get_feature_names()\n",
    "tf_idf_dict1 = dict(zip(tfidf_transform1.get_feature_names(),tfidf_transform1.idf_))\n",
    "\n",
    "print(tfidf_vecto1.shape)\n",
    "print((terms1[:50]))\n",
    "\n",
    "## TfidfVectorizer(min_df=3,stop_words='english',use_idf=True,ngram_range=(1,1)) - 0.82 acc"
   ]
  },
  {
   "cell_type": "code",
   "execution_count": null,
   "metadata": {
    "collapsed": false
   },
   "outputs": [],
   "source": []
  },
  {
   "cell_type": "code",
   "execution_count": 13,
   "metadata": {
    "collapsed": false
   },
   "outputs": [
    {
     "name": "stdout",
     "output_type": "stream",
     "text": [
      "                                                    text  \\\n",
      "21743  as i said  the book was pretty good and this m...   \n",
      "7315   well i  ll start with the good points . the mo...   \n",
      "16372  jack frost is really a cool movie . i mean . ....   \n",
      "16111  i basically skimmed through the movie but just...   \n",
      "\n",
      "                                       clean_title_words  \\\n",
      "21743  [gilbert, might, pretty, lead, please, advanta...   \n",
      "7315   [number, disturbing, saved, buck, shot, displa...   \n",
      "16372  [barker, late, people, acting, frost, rated, d...   \n",
      "16111  [found, bore, hot, sentence, cast, still, memb...   \n",
      "\n",
      "                                        clean_title_text  \\\n",
      "21743  gilbert might pretty lead please advantage kee...   \n",
      "7315   number disturbing saved buck shot displayed li...   \n",
      "16372  barker late people acting frost rated day grad...   \n",
      "16111  found bore hot sentence cast still member yeah...   \n",
      "\n",
      "                                 vectors_word2vec_tf_idf  \n",
      "21743  [-0.02879872738755295, -0.0017595399085157312,...  \n",
      "7315   [-0.01625073557400546, -0.005725970266188972, ...  \n",
      "16372  [-0.03337139584946781, -0.06141059615756821, -...  \n",
      "16111  [-0.025301956355750246, -0.01125287855899439, ...  \n",
      "(25000, 4)\n"
     ]
    }
   ],
   "source": [
    "import numpy as np\n",
    "embed_size = 300\n",
    "\n",
    "def sentences_train_w_tf_idf(strings):\n",
    "\t# Compute the embedding of a sentence to a 300 dimension vector\n",
    "\t# Mix tf-idf with FastText on each word to resume to a vector the sentence\n",
    "    len_string = len(strings)\n",
    "    words = np.zeros((len_string,embed_size))\n",
    "    w = np.zeros(len_string)\n",
    "    for i,word in enumerate(strings):\n",
    "        if word in tf_idf_dict.keys():\n",
    "            words[i]=model.wv[word]\n",
    "            words[i]=words[i]*tf_idf_dict[word]\n",
    "        elif word in tf_idf_dict1.keys():\n",
    "            words[i]=model.wv[word]\n",
    "            words[i]=words[i]*tf_idf_dict1[word]\n",
    "            #print(\"found in fasttext\")\n",
    "        else:\n",
    "            words[i]=np.random.rand(embed_size)\n",
    "            #print(\"not found in fasttext\")\n",
    "    sent_vec = np.sum(words,0)\n",
    "    #finalvec = np.sum(words,0)/len(words)\n",
    "    return sent_vec / np.sqrt(sent_vec.dot(sent_vec))\n",
    "    #return finalvec\n",
    "\n",
    "#sentences_train_w_tf_idf([\"hi\",\"hello\",\"act\"])\n",
    "x_train['vectors_word2vec_tf_idf'] = x_train.clean_title_words.apply(sentences_train_w_tf_idf)\n",
    "x_test['vectors_word2vec_tf_idf'] = x_test.clean_title_words.apply(sentences_train_w_tf_idf)\n",
    "print(x_train.head(n=4))\n",
    "\n",
    "frames = [x_train, x_test]\n",
    "final_data = pd.concat(frames)\n",
    "print(final_data.shape)\n",
    "\n",
    "xtrain = x_train.vectors_word2vec_tf_idf.apply(lambda x: pd.Series(list(x)))\n",
    "xtest = x_test.vectors_word2vec_tf_idf.apply(lambda x: pd.Series(list(x)))\n",
    "#11:40-l"
   ]
  },
  {
   "cell_type": "code",
   "execution_count": 14,
   "metadata": {
    "collapsed": false,
    "scrolled": true
   },
   "outputs": [
    {
     "name": "stdout",
     "output_type": "stream",
     "text": [
      "training accuracy score= 0.834\n",
      "             precision    recall  f1-score   support\n",
      "\n",
      "   negative       0.83      0.83      0.83      2465\n",
      "   positive       0.84      0.83      0.84      2535\n",
      "\n",
      "avg / total       0.83      0.83      0.83      5000\n",
      "\n",
      "TIME taken for Base Modeling (FastText(vocab=2519370, size=300, alpha=0.025) with Tfidf and Fasttext)= 0:00:01.131710\n",
      "training accuracy score= 0.8204\n",
      "             precision    recall  f1-score   support\n",
      "\n",
      "   negative       0.84      0.81      0.82      2581\n",
      "   positive       0.80      0.84      0.82      2419\n",
      "\n",
      "avg / total       0.82      0.82      0.82      5000\n",
      "\n",
      "TIME taken for Base Modeling (FastText(vocab=2519370, size=300, alpha=0.025) with Tfidf and Fasttext)= 0:00:01.972865\n"
     ]
    }
   ],
   "source": [
    "# ## Kfold cross validation\n",
    "# from sklearn.model_selection import KFold\n",
    "# kf = KFold(n_splits=2)\n",
    "\n",
    "# labels = y_train.label+y_test.label\n",
    "# #print(text[:3])\n",
    "# for trainind,testind in kf.split(final_data):\n",
    "#     xtrain=final_data.iloc[[trainind]]\n",
    "#     xtest=final_data.iloc[[testind]]\n",
    "#     train_data = xtrain.vectors_word2vec_tf_idf.apply(lambda x: pd.Series(list(x)))\n",
    "#     test_data = xtest.vectors_word2vec_tf_idf.apply(lambda x: pd.Series(list(x)))\n",
    "#     #train_data,test_data=text[trainind],text[testind]\n",
    "#     train_lab,test_lab=labels[trainind],labels[testind]\n",
    "    \n",
    "#     model_svc = LinearSVC().fit(train_data,train_lab)\n",
    "#     result = model_svc.predict(test_data)\n",
    "#     print(\"SVC metrics\")\n",
    "#     print(model_svc.score(result,y_test.label))\n",
    "#     print(classification_report(result,test_lab))\n",
    "\n",
    "#     clf_rfc = SGDClassifier(loss='hinge',penalty='l2',n_iter=50).fit(train_data,train_lab)\n",
    "#     #print(clf_rfc)\n",
    "#     result2 = clf_rfc.predict(test_data)\n",
    "#     print(\"SGDC metrics\")\n",
    "#     print(clf_rfc.score(result2,y_test.label))\n",
    "#     print(classification_report(result2,test_lab))\n",
    "\n",
    "## NB/SVM model\n",
    "startT = datetime.datetime.now()\n",
    "pred_labels=[]\n",
    "models=[LinearSVC(C=1),SGDClassifier(loss='hinge',penalty='l2',n_iter=50)]\n",
    "for modelname in models:\n",
    "    clf_nb = modelname.fit(xtrain,y_train.label)\n",
    "    #print(clf_nb.score())\n",
    "    result = clf_nb.predict(xtest)\n",
    "    pred_labels.append(result)\n",
    "    print('training accuracy score=',np.mean(result==y_test.label))\n",
    "    print(classification_report(result,y_test.label))\n",
    "    endT = datetime.datetime.now()\n",
    "    print(\"TIME taken for Base Modeling ({} with Tfidf and Fasttext)=\".format(model),(endT-startT))"
   ]
  },
  {
   "cell_type": "code",
   "execution_count": 8,
   "metadata": {
    "collapsed": false
   },
   "outputs": [
    {
     "name": "stdout",
     "output_type": "stream",
     "text": [
      "20000\n",
      "5000\n"
     ]
    },
    {
     "ename": "NameError",
     "evalue": "name 'pred_labels' is not defined",
     "output_type": "error",
     "traceback": [
      "\u001b[1;31m\u001b[0m",
      "\u001b[1;31mNameError\u001b[0mTraceback (most recent call last)",
      "\u001b[1;32m<ipython-input-8-06bde05b7bc2>\u001b[0m in \u001b[0;36m<module>\u001b[1;34m()\u001b[0m\n\u001b[0;32m     36\u001b[0m     \u001b[1;31m#print(clf_nb.score())\u001b[0m\u001b[1;33m\u001b[0m\u001b[1;33m\u001b[0m\u001b[0m\n\u001b[0;32m     37\u001b[0m     \u001b[0mresult\u001b[0m \u001b[1;33m=\u001b[0m \u001b[0mclf_nb\u001b[0m\u001b[1;33m.\u001b[0m\u001b[0mpredict\u001b[0m\u001b[1;33m(\u001b[0m\u001b[0mxtest\u001b[0m\u001b[1;33m)\u001b[0m\u001b[1;33m\u001b[0m\u001b[0m\n\u001b[1;32m---> 38\u001b[1;33m     \u001b[0mpred_labels\u001b[0m\u001b[1;33m.\u001b[0m\u001b[0mappend\u001b[0m\u001b[1;33m(\u001b[0m\u001b[0mresult\u001b[0m\u001b[1;33m)\u001b[0m\u001b[1;33m\u001b[0m\u001b[0m\n\u001b[0m\u001b[0;32m     39\u001b[0m     \u001b[0mprint\u001b[0m\u001b[1;33m(\u001b[0m\u001b[1;34m'training accuracy score='\u001b[0m\u001b[1;33m,\u001b[0m\u001b[0mnp\u001b[0m\u001b[1;33m.\u001b[0m\u001b[0mmean\u001b[0m\u001b[1;33m(\u001b[0m\u001b[0mresult\u001b[0m\u001b[1;33m==\u001b[0m\u001b[0my_test\u001b[0m\u001b[1;33m.\u001b[0m\u001b[0mlabel\u001b[0m\u001b[1;33m)\u001b[0m\u001b[1;33m)\u001b[0m\u001b[1;33m\u001b[0m\u001b[0m\n\u001b[0;32m     40\u001b[0m     \u001b[0mprint\u001b[0m\u001b[1;33m(\u001b[0m\u001b[0mclassification_report\u001b[0m\u001b[1;33m(\u001b[0m\u001b[0mresult\u001b[0m\u001b[1;33m,\u001b[0m\u001b[0my_test\u001b[0m\u001b[1;33m.\u001b[0m\u001b[0mlabel\u001b[0m\u001b[1;33m)\u001b[0m\u001b[1;33m)\u001b[0m\u001b[1;33m\u001b[0m\u001b[0m\n",
      "\u001b[1;31mNameError\u001b[0m: name 'pred_labels' is not defined"
     ]
    }
   ],
   "source": [
    "## Universal sentence encoder\n",
    "## https://www.dlology.com/blog/keras-meets-universal-sentence-encoder-transfer-learning-for-text-data/ \n",
    "\n",
    "import tensorflow as tf\n",
    "import tensorflow_hub as hub\n",
    "\n",
    "module_url = \"https://tfhub.dev/google/universal-sentence-encoder-large/2\"\n",
    "embed = hub.Module(module_url)\n",
    "\n",
    "# Compute a representation for each message, showing various lengths supported.\n",
    "#messages = [\"That band rocks!.That song is really cool\", \"That song is really cool.\"]\n",
    "\n",
    "cleaneddoc = list(x_train['clean_title_text'])\n",
    "cleaneddoc1 = list(x_test['clean_title_text'])\n",
    "with tf.Session() as ses:\n",
    "    ses.run([tf.global_variables_initializer(),tf.tables_initializer()])\n",
    "    mess_emb = ses.run(embed(cleaneddoc))\n",
    "    mess_emb1 = ses.run(embed(cleaneddoc1))\n",
    "\n",
    "# with tf.Session() as ses1:\n",
    "#     ses1.run([tf.global_variables_initializer(),tf.tables_initializer()])\n",
    "#     mess_emb1 = ses.run(embed(cleaneddoc1))\n",
    "    \n",
    "xtrain = mess_emb.tolist()\n",
    "xtest = mess_emb1.tolist()\n",
    "\n",
    "print(len(xtrain))\n",
    "print(len(xtest))\n",
    "\n"
   ]
  },
  {
   "cell_type": "code",
   "execution_count": 9,
   "metadata": {
    "collapsed": false
   },
   "outputs": [
    {
     "name": "stdout",
     "output_type": "stream",
     "text": [
      "training accuracy score= 0.8412\n",
      "             precision    recall  f1-score   support\n",
      "\n",
      "   negative       0.83      0.85      0.84      2431\n",
      "   positive       0.85      0.84      0.84      2569\n",
      "\n",
      "avg / total       0.84      0.84      0.84      5000\n",
      "\n",
      "TIME taken for Base Modeling (LinearSVC(C=10, class_weight=None, dual=True, fit_intercept=True,\n",
      "     intercept_scaling=1, loss='squared_hinge', max_iter=1000,\n",
      "     multi_class='ovr', penalty='l2', random_state=None, tol=0.1,\n",
      "     verbose=0) with Universal Sentence Encoder)= 0:00:05.146911\n",
      "training accuracy score= 0.832\n",
      "             precision    recall  f1-score   support\n",
      "\n",
      "   negative       0.78      0.87      0.82      2225\n",
      "   positive       0.88      0.80      0.84      2775\n",
      "\n",
      "avg / total       0.84      0.83      0.83      5000\n",
      "\n",
      "TIME taken for Base Modeling (SGDClassifier(alpha=0.0001, average=False, class_weight=None, epsilon=0.1,\n",
      "       eta0=0.0, fit_intercept=True, l1_ratio=0.15,\n",
      "       learning_rate='optimal', loss='hinge', max_iter=50, n_iter=None,\n",
      "       n_jobs=1, penalty='l2', power_t=0.5, random_state=None,\n",
      "       shuffle=True, tol=None, verbose=0, warm_start=False) with Universal Sentence Encoder)= 0:00:06.664426\n"
     ]
    }
   ],
   "source": [
    "pred_labels = []\n",
    "## NB/SVM model\n",
    "startT = datetime.datetime.now()\n",
    "# C=20,tol=1e-3 - 0.85\n",
    "models=[LinearSVC(C=10,tol=1e-1),SGDClassifier(loss='hinge',penalty='l2',n_iter=50)]\n",
    "for modelname in models:\n",
    "    clf_nb = modelname.fit(xtrain,y_train.label)\n",
    "    #print(clf_nb.score())\n",
    "    result = clf_nb.predict(xtest)\n",
    "    pred_labels.append(result)\n",
    "    print('training accuracy score=',np.mean(result==y_test.label))\n",
    "    print(classification_report(result,y_test.label))\n",
    "    endT = datetime.datetime.now()\n",
    "    print(\"TIME taken for Base Modeling ({} with Universal Sentence Encoder)=\".format(modelname),(endT-startT))"
   ]
  },
  {
   "cell_type": "code",
   "execution_count": 11,
   "metadata": {
    "collapsed": false
   },
   "outputs": [
    {
     "data": {
      "text/plain": [
       "<matplotlib.legend.Legend at 0x7efb4d852f98>"
      ]
     },
     "execution_count": 11,
     "metadata": {},
     "output_type": "execute_result"
    },
    {
     "data": {
      "text/plain": [
       "<matplotlib.figure.Figure at 0x7efb4d87c358>"
      ]
     },
     "metadata": {},
     "output_type": "display_data"
    },
    {
     "data": {
      "image/png": "[encoded data removed]",
      "text/plain": [
       "<matplotlib.figure.Figure at 0x7efb4d852780>"
      ]
     },
     "metadata": {},
     "output_type": "display_data"
    }
   ],
   "source": [
    "# models = [\"LinearSVC_Tfidf&Fasttext\",\"SGDClassifier_Tfidf&Fasttext\",\n",
    "#          \"LinearSVC_Universal_Sentence_Encoder\",\"SGDClassifier_Universal_Sentence_Encoder\"]\n",
    "models = [\"LinearSVC_Tfidf&Fasttext\",\"SGDClassifier_Tfidf&Fasttext\"]\n",
    "#pred_labels\n",
    "\n",
    "from sklearn import metrics\n",
    "import numpy as np\n",
    "import matplotlib.pyplot as plt\n",
    "%matplotlib inline\n",
    "\n",
    "plt.clf()\n",
    "plt.figure(figsize=(8,5))\n",
    "\n",
    "for i in range(len(models)):\n",
    "    preds = pred_labels[i].tolist()\n",
    "    pred= [1 if item=='positive' else 0 for item in preds]\n",
    "    labels = y_test.label.tolist()\n",
    "    label = [1 if item=='positive' else 0 for item in labels]\n",
    "    fpr, tpr, thresh = metrics.roc_curve(label, pred)\n",
    "    auc = metrics.roc_auc_score(label, pred)\n",
    "    plt.plot(fpr,tpr,label=\"{} - auc= {}\".format(models[i],str(auc)))\n",
    "plt.xlabel('False Positive Rate')\n",
    "plt.ylabel('True Positive Rate')\n",
    "plt.legend(loc=0)"
   ]
  },
  {
   "cell_type": "code",
   "execution_count": null,
   "metadata": {
    "collapsed": false
   },
   "outputs": [],
   "source": [
    "# ## DOC2VEC model\n",
    "# #outData44_en_sample = outData44_en[50:55]\n",
    "\n",
    "# cleaneddoc = [nltk_extract_tags(text) for text in list(outData44_en[\"v_title_trans\"])]\n",
    "# taggeddoc = [doc2vec.TaggedDocument(val,[idx]) for idx,val in enumerate(cleaneddoc)]\n",
    "\n",
    "# d2vmodel = Doc2Vec(size=100,min_count=2,alpha=0.025,min_alpha=0.025)\n",
    "# d2vmodel.build_vocab(taggeddoc)\n",
    "# #print(d2vmodel[0])\n",
    "# d2vmodel.train(taggeddoc,total_examples=d2vmodel.corpus_count,epochs=10,start_alpha=0.002,end_alpha=-0.016)\n",
    "# d2vmodel_vecs = [d2vmodel.infer_vector(val) for idx,val in enumerate(cleaneddoc)]\n",
    "# #print(d2vmodel_vecs[0])\n",
    "\n",
    "##feature_vecto = d2vmodel.docvecs.doctag_syn0\n",
    "##print(len(d2vmodel_vecs))\n",
    "\n",
    "## WORD2VEC model # Word2Vec\n",
    "def getWord2VecMetrics(outData44):\n",
    "    t0 = datetime.datetime.now()\n",
    "    cleaneddoc = [nltk_extract_tags(text) for text in list(outData44[\"text\"])]\n",
    "    cleaneddoc = [text for text in cleaneddoc if len(text)>0]\n",
    "    w2vmodel = Word2Vec(cleaneddoc,min_count=2,size=300)\n",
    "    w2v_vecs = w2vmodel.wv.syn0\n",
    "    t1 = datetime.datetime.now()\n",
    "    print(\"END TIME after word2vec =\",t1)\n",
    "    print(\"time taken until word2vec=\",(t1-t0))\n",
    "    return w2v_vecs\n",
    "#feature_vecto = getWord2VecMetrics(outData43_text)\n",
    "#print(feature_vecto.shape)"
   ]
  },
  {
   "cell_type": "code",
   "execution_count": null,
   "metadata": {
    "collapsed": true
   },
   "outputs": [],
   "source": []
  }
 ],
 "metadata": {
  "anaconda-cloud": {},
  "kernelspec": {
   "display_name": "Python [Root]",
   "language": "python",
   "name": "Python [Root]"
  },
  "language_info": {
   "codemirror_mode": {
    "name": "ipython",
    "version": 3
   },
   "file_extension": ".py",
   "mimetype": "text/x-python",
   "name": "python",
   "nbconvert_exporter": "python",
   "pygments_lexer": "ipython3",
   "version": "3.5.2"
  }
 },
 "nbformat": 4,
 "nbformat_minor": 2
}
