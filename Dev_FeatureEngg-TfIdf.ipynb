{
 "cells": [
  {
   "cell_type": "code",
   "execution_count": 2,
   "metadata": {
    "collapsed": false
   },
   "outputs": [],
   "source": [
    "## import data processing/cleaning , data modeling libraries\n",
    "import pandas as pd\n",
    "import os\n",
    "import sys\n",
    "import re as re\n",
    "import datetime as datetime\n",
    "import numpy as np\n",
    "import collections\n",
    "import string\n",
    "import pandas as pd\n",
    "\n",
    "from nltk.tag.perceptron import PerceptronTagger\n",
    "import nltk\n",
    "from nltk.stem import WordNetLemmatizer,PorterStemmer\n",
    "from nltk.corpus import stopwords\n",
    "\n",
    "from gensim.models import Doc2Vec\n",
    "#from gensim.models import Word2Vec\n",
    "from gensim.models import fasttext\n",
    "\n",
    "from sklearn.feature_extraction.text import TfidfVectorizer\n",
    "from sklearn.model_selection import train_test_split\n",
    "from sklearn.pipeline import Pipeline\n",
    "from sklearn.naive_bayes import MultinomialNB\n",
    "from sklearn.svm import LinearSVC\n",
    "from sklearn.linear_model import SGDClassifier\n",
    "from gensim.models.wrappers import FastText\n",
    "from sklearn.model_selection import GridSearchCV\n",
    "\n",
    "from sklearn.metrics import classification_report\n",
    "\n",
    "import warnings\n",
    "warnings.filterwarnings('ignore')\n",
    "t0 = datetime.datetime.now()"
   ]
  },
  {
   "cell_type": "code",
   "execution_count": 9,
   "metadata": {
    "collapsed": false
   },
   "outputs": [],
   "source": [
    "outData43 = pd.DataFrame()\n",
    "limit = 20000\n",
    "\n",
    "outData43_text = pd.read_csv(\"reviews.txt\",encoding=\"utf-8\",header=None,names=[\"text\"])\n",
    "outData43_lab = pd.read_csv(\"labels.txt\",encoding=\"utf-8\",header=None,names=[\"label\"])\n",
    "#outData43_text = outData43_text[:limit]\n",
    "#outData43_lab = outData43_lab[:limit]\n",
    "#outData43[\"length\"]=outData43_text.text.apply(lambda x:len(x))\n",
    "# print(outData43.head(n=2))\n",
    "\n",
    "x_train,x_test,y_train,y_test = train_test_split(outData43_text,outData43_lab,test_size=0.4)"
   ]
  },
  {
   "cell_type": "code",
   "execution_count": 10,
   "metadata": {
    "collapsed": false
   },
   "outputs": [
    {
     "data": {
      "text/plain": [
       "['marianne',\n",
       " 'khan',\n",
       " 'singh',\n",
       " 'salim',\n",
       " 'rukh',\n",
       " 'cruz',\n",
       " 'sukhvinder',\n",
       " 'india',\n",
       " 'shah',\n",
       " 'song',\n",
       " 'full',\n",
       " 'chak',\n",
       " 'title']"
      ]
     },
     "execution_count": 10,
     "metadata": {},
     "output_type": "execute_result"
    }
   ],
   "source": [
    "## NLP PRE-PROCESSING\n",
    "\n",
    "#text=\" the JanaSena Party Formation Day celebrations || LIVE funny celebration|| Pawan Kalyan || Guntur\"\n",
    "text=\"Chak De India | Full Title Song | Shah Rukh Khan | Sukhvinder Singh | Salim | Marianne D'Cruz\"\n",
    "\n",
    "def nltk_clean_sent(line):\n",
    "    if len(line)>0:\n",
    "        ## remove the punctuation/emoticons/digits/multispaces with single from the line\n",
    "        ## dont make lowercase before the pos tagging\n",
    "        line_lower = line.strip()\n",
    "        line_punct = re.sub('['+string.punctuation+']',' ',line_lower)\n",
    "        line_emots = re.sub(r'[\\u200b-\\u2fff]+',' ',line_punct)\n",
    "        line_digis = re.sub(r'[0-9]+',' ',line_emots)\n",
    "        line_spaces = re.sub(r'[\\s]+',' ',line_digis)\n",
    "        line = line_spaces\n",
    "    return line.lower()\n",
    "\n",
    "def nltk_extract_postags(tokens):\n",
    "    cleaned_str = ''\n",
    "    #tokens = nltk.word_tokenize(line)\n",
    "    tokens_pos = PerceptronTagger().tag(tokens)\n",
    "    #print(tokens_pos)\n",
    "    # noun tags\n",
    "    nn_tags = ['NN', 'NNP', 'NNP', 'NNPS', 'NNS']\n",
    "    # adjectives\n",
    "    jj_tags = ['JJ', 'JJR', 'JJS']\n",
    "    # verbs\n",
    "    vb_tags = ['VB', 'VBD', 'VBG', 'VBN', 'VBP', 'VBZ']\n",
    "    nltk_tags = nn_tags + jj_tags + vb_tags\n",
    "    \n",
    "    for tag_word in tokens_pos:\n",
    "#         if tag_word[1] in nltk_tags:\n",
    "            if len(tag_word[0])>2:\n",
    "                cleaned_str += tag_word[0].lower()+tag_word[1]+' '\n",
    "    return cleaned_str.strip().split()\n",
    "\n",
    "def nltk_apply_lemma(line):\n",
    "    ## lemma is fine rather than stemming\n",
    "    tokens_lemmas = [WordNetLemmatizer().lemmatize(word) for word in line.split()]\n",
    "    #tokens_lemmas = [PorterStemmer().stem(word) for word in line.split()]\n",
    "    ## stemming\n",
    "    tokens_stops = [word for word in tokens_lemmas if word not in stopwords.words('english')]\n",
    "    tokens_stops = [word for word in tokens_stops if len(word.strip())>2]\n",
    "    tokens_stops = list(set(tokens_stops))\n",
    "    return tokens_stops\n",
    "\n",
    "def nltk_extract_tags(line):\n",
    "        ## tokenize the sentence/get tokens that contains only letters\n",
    "        line_clean = nltk_clean_sent(line)\n",
    "        ## apply lemmatize/stemming and remove stopwords\n",
    "        token_lemma = nltk_apply_lemma(line_clean)\n",
    "#         apply postags to the words and get only couple of tags and word length >2\n",
    "#         tokens_pos = nltk_extract_postags(token_lemma)\n",
    "        \n",
    "        return token_lemma\n",
    "    \n",
    "nltk_extract_tags(text)"
   ]
  },
  {
   "cell_type": "code",
   "execution_count": 11,
   "metadata": {
    "collapsed": false
   },
   "outputs": [
    {
     "name": "stdout",
     "output_type": "stream",
     "text": [
      "                                                    text  \\\n",
      "4167   i think this is almost all i need to say . i f...   \n",
      "11464  the first thing i thought when i saw this film...   \n",
      "\n",
      "                                       clean_title_words  \\\n",
      "4167   [although, like, know, operation, plot, techni...   \n",
      "11464  [like, thing, philosophy, fairy, vision, way, ...   \n",
      "\n",
      "                                        clean_title_text  \n",
      "4167   although like know operation plot technical re...  \n",
      "11464  like thing philosophy fairy vision way everyth...  \n"
     ]
    }
   ],
   "source": [
    "# Compute clean title\n",
    "x_train['clean_title_words'] = x_train.text.apply(nltk_extract_tags)\n",
    "x_test['clean_title_words'] = x_test.text.apply(nltk_extract_tags)\n",
    "#print(df_en.head(n=2))\n",
    "x_train['clean_title_text'] = x_train.clean_title_words.apply(lambda x:' '.join(x))\n",
    "x_test['clean_title_text'] = x_test.clean_title_words.apply(lambda x:' '.join(x))\n",
    "print(x_train.head(n=2))"
   ]
  },
  {
   "cell_type": "code",
   "execution_count": 12,
   "metadata": {
    "collapsed": false
   },
   "outputs": [
    {
     "data": {
      "text/plain": [
       "<matplotlib.axes._subplots.AxesSubplot at 0x7fe5a51149e8>"
      ]
     },
     "execution_count": 12,
     "metadata": {},
     "output_type": "execute_result"
    },
    {
     "data": {
      "image/png": "[encoded data removed]",
      "text/plain": [
       "<matplotlib.figure.Figure at 0x7fe5a60e32b0>"
      ]
     },
     "metadata": {},
     "output_type": "display_data"
    },
    {
     "data": {
      "image/png": "[encoded data removed]",
      "text/plain": [
       "<matplotlib.figure.Figure at 0x7fe5a50a8550>"
      ]
     },
     "metadata": {},
     "output_type": "display_data"
    }
   ],
   "source": [
    "import matplotlib\n",
    "matplotlib.use('Agg')\n",
    "import pylab as plt\n",
    "%matplotlib inline\n",
    "\n",
    "sentence = x_train['clean_title_text'].tolist()\n",
    "words = \" \".join(sentence).split()\n",
    "#print(words)\n",
    "counts = collections.Counter(words).most_common(90)\n",
    "#lst = word_counter.most_common(n_print)\n",
    "df = pd.DataFrame(counts, columns = ['Word', 'Count'])\n",
    "df.plot.bar(x='Word',y='Count',figsize=(18,4))\n",
    "\n",
    "sentence1 = outData43_lab['label'].tolist()\n",
    "#print(words)\n",
    "counts1 = collections.Counter(sentence1).most_common()\n",
    "#lst = word_counter.most_common(n_print)\n",
    "df1 = pd.DataFrame(counts1, columns = ['label', 'Count'])\n",
    "df1.plot.bar(x='label',y='Count',figsize=(5,3))"
   ]
  },
  {
   "cell_type": "code",
   "execution_count": 37,
   "metadata": {
    "collapsed": false
   },
   "outputs": [],
   "source": [
    "#print(help(df.plot.bar))"
   ]
  },
  {
   "cell_type": "code",
   "execution_count": 38,
   "metadata": {
    "collapsed": false
   },
   "outputs": [],
   "source": [
    "# #!pip install matplotlib\n",
    "# # sudo apt update\n",
    "# # sudo apt install libgl1-mesa-glx\n",
    "\n",
    "# import matplotlib \n",
    "# matplotlib.use(\"tkagg\") \n",
    "# import matplotlib.pyplot as plt\n",
    "\n",
    "# wordlist = x_train['clean_title_text'].tolist()\n",
    "# wordslist = [item.split() for item in wordlist]\n",
    "# wordslist1 = [item for items in wordslist for item in items]\n",
    "# #wordslist1[:50]\n",
    "# fd = nltk.FreqDist(wordslist1)\n",
    "# fd.plot(30,cumulative=False)"
   ]
  },
  {
   "cell_type": "code",
   "execution_count": 13,
   "metadata": {
    "collapsed": false
   },
   "outputs": [
    {
     "name": "stdout",
     "output_type": "stream",
     "text": [
      "training accuracy score= 0.8556\n",
      "             precision    recall  f1-score   support\n",
      "\n",
      "   negative       0.88      0.84      0.86      5194\n",
      "   positive       0.83      0.88      0.85      4806\n",
      "\n",
      "avg / total       0.86      0.86      0.86     10000\n",
      "\n",
      "TIME taken for Base Modeling (MultinomialNB(alpha=1.0, class_prior=None, fit_prior=True) with Tfidf)= 0:00:03.352840\n",
      "training accuracy score= 0.8786\n",
      "             precision    recall  f1-score   support\n",
      "\n",
      "   negative       0.87      0.88      0.88      4908\n",
      "   positive       0.88      0.88      0.88      5092\n",
      "\n",
      "avg / total       0.88      0.88      0.88     10000\n",
      "\n",
      "TIME taken for Base Modeling (LinearSVC(C=1.0, class_weight=None, dual=True, fit_intercept=True,\n",
      "     intercept_scaling=1, loss='squared_hinge', max_iter=1000,\n",
      "     multi_class='ovr', penalty='l2', random_state=None, tol=0.0001,\n",
      "     verbose=0) with Tfidf)= 0:00:06.860457\n",
      "training accuracy score= 0.8847\n",
      "             precision    recall  f1-score   support\n",
      "\n",
      "   negative       0.87      0.90      0.88      4777\n",
      "   positive       0.90      0.87      0.89      5223\n",
      "\n",
      "avg / total       0.89      0.88      0.88     10000\n",
      "\n",
      "TIME taken for Base Modeling (SGDClassifier(alpha=0.0001, average=False, class_weight=None, epsilon=0.1,\n",
      "       eta0=0.0, fit_intercept=True, l1_ratio=0.15,\n",
      "       learning_rate='optimal', loss='hinge', max_iter=5, n_iter=None,\n",
      "       n_jobs=1, penalty='l2', power_t=0.5, random_state=None,\n",
      "       shuffle=True, tol=None, verbose=0, warm_start=False) with Tfidf)= 0:00:10.259915\n"
     ]
    }
   ],
   "source": [
    "## NB/SVM model\n",
    "startT = datetime.datetime.now()\n",
    "pred_labels = []\n",
    "models=[MultinomialNB(),LinearSVC(),SGDClassifier()]\n",
    "for model in models:\n",
    "    clf_nb = Pipeline([('tfidf',TfidfVectorizer(stop_words='english')),('model name',model)])\n",
    "    clf_nb = clf_nb.fit(x_train.clean_title_text,y_train.label)\n",
    "    #print(clf_nb.score())\n",
    "    result = clf_nb.predict(x_test.clean_title_text)\n",
    "    pred_labels.append(result)\n",
    "    print('training accuracy score=',np.mean(result==y_test.label))\n",
    "    print(classification_report(result,y_test.label))\n",
    "    endT = datetime.datetime.now()\n",
    "    print(\"TIME taken for Base Modeling ({} with Tfidf)=\".format(model),(endT-startT))\n",
    "\n",
    "# NB with Tfidf accuracy score= 0.861\n",
    "# SVC with Tfidf accuracy score= 0.8762\n",
    "# TIME taken for Base Modeling (NB with tfidf) = 10 min\n",
    "# TIME taken for Modeling with Tuning (SVC with tfidf) = 30 min"
   ]
  },
  {
   "cell_type": "code",
   "execution_count": 45,
   "metadata": {
    "collapsed": false
   },
   "outputs": [
    {
     "name": "stdout",
     "output_type": "stream",
     "text": [
      "SGDC classifier Tuning\n",
      "training accuracy score= 0.8868\n",
      "             precision    recall  f1-score   support\n",
      "\n",
      "   negative       0.88      0.89      0.88      2438\n",
      "   positive       0.89      0.89      0.89      2562\n",
      "\n",
      "avg / total       0.89      0.89      0.89      5000\n",
      "\n",
      "TIME taken for Modeling with Tuning (SGD with Tfidf)= 0:00:03.151200\n"
     ]
    }
   ],
   "source": [
    "## SGDC model\n",
    "startT = datetime.datetime.now()\n",
    "\n",
    "clf_sgd = Pipeline([('tfidf',TfidfVectorizer(stop_words='english',use_idf=True)),\n",
    "                    ('sgd',SGDClassifier(loss='hinge',penalty='l2',alpha=0.0001,n_iter=2))])\n",
    "clf_sgd = clf_sgd.fit(x_train.clean_title_text,y_train.label)\n",
    "print(\"SGDC classifier Tuning\")\n",
    "#print(\"Training score=\",clf_nb.score())\n",
    "result_sgdctuned = clf_sgd.predict(x_test.clean_title_text)\n",
    "print('training accuracy score=',np.mean(result_sgdctuned==y_test.label))\n",
    "print(classification_report(result_sgdctuned,y_test.label))\n",
    "# print('NB with Tfidf accuracy score=',np.mean(result==y_test.label))\n",
    "endT = datetime.datetime.now()\n",
    "print(\"TIME taken for Modeling with Tuning (SGD with Tfidf)=\",(endT-startT))\n",
    "\n",
    "pred_labels.append(result_sgdctuned)"
   ]
  },
  {
   "cell_type": "code",
   "execution_count": 46,
   "metadata": {
    "collapsed": false
   },
   "outputs": [
    {
     "name": "stdout",
     "output_type": "stream",
     "text": [
      "SVC classifier Tuning\n",
      "Trainig score= 0.8807\n",
      "{'tfidf__min_df': 1, 'tfidf__ngram_range': (1, 2), 'tfidf__sublinear_tf': True, 'tfidf__use_idf': True}\n",
      "             precision    recall  f1-score   support\n",
      "\n",
      "   negative       0.86      0.90      0.88      2338\n",
      "   positive       0.91      0.87      0.89      2662\n",
      "\n",
      "avg / total       0.89      0.88      0.88      5000\n",
      "\n",
      "TIME taken for Modeling with Tuning= 0:00:32.058755\n"
     ]
    }
   ],
   "source": [
    "## gridsearhCV (SVC)\n",
    "startT = datetime.datetime.now()\n",
    "clf_svc = Pipeline([('tfidf',TfidfVectorizer(stop_words='english')),('svc',LinearSVC(C=10))])\n",
    "\n",
    "models = [clf_svc]\n",
    "\n",
    "for model in models:\n",
    "    params = {'tfidf__ngram_range':[(1,2)],'tfidf__use_idf':[True],\n",
    "              'tfidf__sublinear_tf':[True],'tfidf__min_df':[1]}\n",
    "    gs_clf_model = GridSearchCV(model,params,n_jobs=-1)\n",
    "    gs_clf_model = gs_clf_model.fit(x_train.clean_title_text,y_train.label)\n",
    "    print(\"SVC classifier Tuning\")\n",
    "    #print(model.named_steps['svc'])\n",
    "    print(\"Trainig score=\",gs_clf_model.best_score_)\n",
    "    print(gs_clf_model.best_params_)\n",
    "\n",
    "result_svctuned = gs_clf_model.predict(x_test.clean_title_text)\n",
    "print(classification_report(result_svctuned,y_test.label))\n",
    "endT = datetime.datetime.now()\n",
    "print(\"TIME taken for Modeling with Tuning=\",(endT-startT))\n",
    "\n",
    "pred_labels.append(result_svctuned)"
   ]
  },
  {
   "cell_type": "code",
   "execution_count": 14,
   "metadata": {
    "collapsed": false
   },
   "outputs": [
    {
     "data": {
      "text/plain": [
       "<matplotlib.legend.Legend at 0x7fe5a4d78eb8>"
      ]
     },
     "execution_count": 14,
     "metadata": {},
     "output_type": "execute_result"
    },
    {
     "data": {
      "text/plain": [
       "<matplotlib.figure.Figure at 0x7fe5a58e8b70>"
      ]
     },
     "metadata": {},
     "output_type": "display_data"
    },
    {
     "data": {
      "image/png": "[encoded data removed]",
      "text/plain": [
       "<matplotlib.figure.Figure at 0x7fe5a4d8f940>"
      ]
     },
     "metadata": {},
     "output_type": "display_data"
    }
   ],
   "source": [
    "models = [\"Naive Bayes_default_params\",\"LinearSVC_default_params\",\"SGDClassifier_default_params\"]\n",
    "#          \"SGDClassifier_tuned_params\",\"LinearSVC_tuned_params\"]\n",
    "#pred_labels\n",
    "\n",
    "from sklearn import metrics\n",
    "import numpy as np\n",
    "import matplotlib.pyplot as plt\n",
    "\n",
    "plt.clf()\n",
    "plt.figure(figsize=(7,5))\n",
    "\n",
    "for i in range(len(models)):\n",
    "    preds = pred_labels[i].tolist()\n",
    "    pred= [1 if item=='positive' else 0 for item in preds]\n",
    "    labels = y_test.label.tolist()\n",
    "    label = [1 if item=='positive' else 0 for item in labels]\n",
    "    fpr, tpr, thresh = metrics.roc_curve(label, pred)\n",
    "    auc = metrics.roc_auc_score(label, pred)\n",
    "    plt.plot(fpr,tpr,label=\"{} - auc= {}\".format(models[i],str(auc)))\n",
    "plt.xlabel('False Positive Rate')\n",
    "plt.ylabel('True Positive Rate')\n",
    "plt.legend(loc=0)"
   ]
  },
  {
   "cell_type": "code",
   "execution_count": null,
   "metadata": {
    "collapsed": true
   },
   "outputs": [],
   "source": []
  }
 ],
 "metadata": {
  "anaconda-cloud": {},
  "kernelspec": {
   "display_name": "Python [Root]",
   "language": "python",
   "name": "Python [Root]"
  },
  "language_info": {
   "codemirror_mode": {
    "name": "ipython",
    "version": 3
   },
   "file_extension": ".py",
   "mimetype": "text/x-python",
   "name": "python",
   "nbconvert_exporter": "python",
   "pygments_lexer": "ipython3",
   "version": "3.5.2"
  }
 },
 "nbformat": 4,
 "nbformat_minor": 2
}
